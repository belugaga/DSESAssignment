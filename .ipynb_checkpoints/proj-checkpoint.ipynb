{
 "cells": [
  {
   "cell_type": "code",
   "execution_count": 1,
   "id": "836cdffc-4b1d-4818-87fd-946c7f21e6f0",
   "metadata": {},
   "outputs": [
    {
     "name": "stderr",
     "output_type": "stream",
     "text": [
      "C:\\Users\\gerwa\\AppData\\Local\\Temp\\ipykernel_30280\\1494456512.py:4: DtypeWarning: Columns (17) have mixed types. Specify dtype option on import or set low_memory=False.\n",
      "  dt = pd.read_csv(filename)\n"
     ]
    }
   ],
   "source": [
    "import pandas as pd\n",
    "\n",
    "filename=\"C:/Users/gerwa/y2/DSES/proj/2_AssignmentDataSet.csv\"\n",
    "dt = pd.read_csv(filename)\n",
    "dt = dt.dropna()\n",
    "dt[\"satisfaction\"].replace({\"neutral or dissatisfied\":int(0), \"satisfied\":int(1)}, inplace=True)"
   ]
  },
  {
   "cell_type": "code",
   "execution_count": null,
   "id": "9ff05627-cc8c-4a90-b5da-1ec36d4f49a7",
   "metadata": {},
   "outputs": [],
   "source": []
  },
  {
   "cell_type": "code",
   "execution_count": 2,
   "id": "2d3e7de5-2603-4634-89ef-56f77509b72a",
   "metadata": {},
   "outputs": [],
   "source": [
    "features_df=pd.get_dummies(dt,columns=[\"Gender\",\"Customer Type\",\"Type of Travel\",\"Class\"])"
   ]
  },
  {
   "cell_type": "code",
   "execution_count": null,
   "id": "9d06c781-5f97-4d14-8cd9-16c8872897bd",
   "metadata": {},
   "outputs": [],
   "source": []
  },
  {
   "cell_type": "code",
   "execution_count": null,
   "id": "98b3b409-74f1-4657-9732-11f171620e69",
   "metadata": {},
   "outputs": [],
   "source": []
  },
  {
   "cell_type": "code",
   "execution_count": 3,
   "id": "812fc155-188e-4c65-91e6-6f21ea45da54",
   "metadata": {},
   "outputs": [],
   "source": [
    "# show 1st then redo the customer type\n",
    "columns=features_df.columns"
   ]
  },
  {
   "cell_type": "code",
   "execution_count": 4,
   "id": "6b35ec0b-d987-4773-b696-c4c858c44a5e",
   "metadata": {},
   "outputs": [
    {
     "name": "stdout",
     "output_type": "stream",
     "text": [
      "id\n",
      "Age\n",
      "Flight Distance\n",
      "Inflight wifi service\n",
      "Departure/Arrival time convenient\n",
      "Ease of Online booking\n",
      "Gate location\n",
      "Food and drink\n",
      "Online boarding\n",
      "Seat comfort\n",
      "Inflight entertainment\n",
      "On-board service\n",
      "Leg room service\n",
      "Baggage handling\n",
      "Checkin service\n",
      "Inflight service\n",
      "Cleanliness\n",
      "Departure Delay in Minutes\n",
      "Arrival Delay in Minutes\n",
      "satisfaction\n",
      "Gender_Female\n",
      "Gender_Male\n",
      "Customer Type_DISLOYAL CUSTOMER\n",
      "Customer Type_Disloyal\n",
      "Customer Type_Disloyal Customer\n",
      "Customer Type_Loyal Customer\n",
      "Customer Type_disloyal Customer\n",
      "Customer Type_loyal\n",
      "Type of Travel_Business travel\n",
      "Type of Travel_Personal Travel\n",
      "Class_Business\n",
      "Class_Eco\n",
      "Class_Eco Plus\n"
     ]
    }
   ],
   "source": [
    "for i in columns:\n",
    "    print(i)"
   ]
  },
  {
   "cell_type": "code",
   "execution_count": 5,
   "id": "ebf69a3d-4161-4b60-9c74-3b5334f94921",
   "metadata": {},
   "outputs": [],
   "source": [
    "dt = dt.rename(columns={\"Customer Type\":\"Loyal Customer\"})\n",
    "dt[\"Loyal Customer\"].replace({\"DISLOYAL CUSTOMER\":int(0),\"Disloyal\":int(0),\"Disloyal Customer\":int(0), \"disloyal Customer\":int(0),\n",
    "                              \"Loyal Customer\":int(1), \"loyal\":int(1)}, inplace=True)"
   ]
  },
  {
   "cell_type": "code",
   "execution_count": 6,
   "id": "36751c3f-2c5b-4c9e-ae3c-68d7ae8f5447",
   "metadata": {},
   "outputs": [
    {
     "data": {
      "text/plain": [
       "Index(['Loyal Customer', 'Age', 'Flight Distance', 'Inflight wifi service',\n",
       "       'Departure/Arrival time convenient', 'Ease of Online booking',\n",
       "       'Gate location', 'Food and drink', 'Online boarding', 'Seat comfort',\n",
       "       'Inflight entertainment', 'On-board service', 'Leg room service',\n",
       "       'Baggage handling', 'Checkin service', 'Inflight service',\n",
       "       'Cleanliness', 'Departure Delay in Minutes', 'Arrival Delay in Minutes',\n",
       "       'Gender_Female', 'Gender_Male', 'Type of Travel_Business travel',\n",
       "       'Type of Travel_Personal Travel', 'Class_Business', 'Class_Eco',\n",
       "       'Class_Eco Plus'],\n",
       "      dtype='object')"
      ]
     },
     "execution_count": 6,
     "metadata": {},
     "output_type": "execute_result"
    }
   ],
   "source": [
    "features_df=pd.get_dummies(dt,columns=[\"Gender\",\"Type of Travel\",\"Class\"])\n",
    "del features_df[\"id\"]\n",
    "del features_df[\"satisfaction\"]\n",
    "features_df.columns"
   ]
  },
  {
   "cell_type": "code",
   "execution_count": 7,
   "id": "265784e5-62d3-4aed-82fa-52c2ca278657",
   "metadata": {},
   "outputs": [],
   "source": [
    "columns=['Loyal Customer', 'Age', 'Flight Distance', 'Inflight wifi service',\n",
    "       'Departure/Arrival time convenient', 'Ease of Online booking',\n",
    "       'Gate location', 'Food and drink', 'Online boarding', 'Seat comfort',\n",
    "       'Inflight entertainment', 'On-board service', 'Leg room service',\n",
    "       'Baggage handling', 'Checkin service', 'Inflight service',\n",
    "       'Cleanliness', 'Departure Delay in Minutes', 'Arrival Delay in Minutes',\n",
    "       'Gender_Female', 'Gender_Male', 'Type of Travel_Business travel',\n",
    "       'Type of Travel_Personal Travel', 'Class_Business', 'Class_Eco',\n",
    "       'Class_Eco Plus']"
   ]
  },
  {
   "cell_type": "code",
   "execution_count": 8,
   "id": "6fe5e3f1-d9a5-4fa2-86ab-05fa3929a32a",
   "metadata": {},
   "outputs": [
    {
     "name": "stdout",
     "output_type": "stream",
     "text": [
      "Loyal Customer\n",
      "False\n",
      "Age\n",
      "False\n",
      "Flight Distance\n",
      "False\n",
      "Inflight wifi service\n",
      "False\n",
      "Departure/Arrival time convenient\n",
      "False\n",
      "Ease of Online booking\n",
      "False\n",
      "Gate location\n",
      "False\n",
      "Food and drink\n",
      "False\n",
      "Online boarding\n",
      "False\n",
      "Seat comfort\n",
      "False\n",
      "Inflight entertainment\n",
      "False\n",
      "On-board service\n",
      "False\n",
      "Leg room service\n",
      "False\n",
      "Baggage handling\n",
      "True\n",
      "Checkin service\n",
      "False\n",
      "Inflight service\n",
      "False\n",
      "Cleanliness\n",
      "False\n",
      "Departure Delay in Minutes\n",
      "False\n",
      "Arrival Delay in Minutes\n",
      "False\n",
      "Gender_Female\n",
      "False\n",
      "Gender_Male\n",
      "False\n",
      "Type of Travel_Business travel\n",
      "False\n",
      "Type of Travel_Personal Travel\n",
      "False\n",
      "Class_Business\n",
      "False\n",
      "Class_Eco\n",
      "False\n",
      "Class_Eco Plus\n",
      "False\n"
     ]
    }
   ],
   "source": [
    "from pandas.api.types import is_string_dtype\n",
    "for i in columns:\n",
    "    print(i)\n",
    "    print(is_string_dtype(features_df[i]))"
   ]
  },
  {
   "cell_type": "code",
   "execution_count": 9,
   "id": "eab7b741-5a95-4ac8-9ef4-1521801e91d0",
   "metadata": {},
   "outputs": [
    {
     "data": {
      "text/plain": [
       "count     101401\n",
       "unique        11\n",
       "top            4\n",
       "freq       25062\n",
       "Name: Baggage handling, dtype: int64"
      ]
     },
     "execution_count": 9,
     "metadata": {},
     "output_type": "execute_result"
    }
   ],
   "source": [
    "features_df[\"Baggage handling\"].describe()"
   ]
  },
  {
   "cell_type": "code",
   "execution_count": 10,
   "id": "0df51fbe-aece-4001-960f-a83e6a83663e",
   "metadata": {},
   "outputs": [
    {
     "name": "stdout",
     "output_type": "stream",
     "text": [
      "['4' '3' '5' '1' '2' '-' 5 3 4 2 1]\n"
     ]
    }
   ],
   "source": [
    "print(features_df[\"Baggage handling\"].unique())"
   ]
  },
  {
   "cell_type": "code",
   "execution_count": 11,
   "id": "7f21a0f9-162b-4b3c-a969-43dcddc61378",
   "metadata": {},
   "outputs": [],
   "source": [
    "features_df[\"Baggage handling\"].replace({\"1\":int(1),\"2\":int(2),\"3\":int(3), \"4\":int(4), \"5\":int(5), \"-\":None}, inplace=True)"
   ]
  },
  {
   "cell_type": "code",
   "execution_count": 12,
   "id": "c29b44cb-8a42-4811-98b5-5d47e2e53dd4",
   "metadata": {},
   "outputs": [
    {
     "name": "stdout",
     "output_type": "stream",
     "text": [
      "[ 4.  3.  5.  1.  2. nan]\n"
     ]
    }
   ],
   "source": [
    "print(features_df[\"Baggage handling\"].unique())"
   ]
  },
  {
   "cell_type": "code",
   "execution_count": 13,
   "id": "e1b13e53-20e5-4b2a-a88c-ca6141504028",
   "metadata": {},
   "outputs": [],
   "source": [
    "features_df= features_df.dropna()"
   ]
  },
  {
   "cell_type": "code",
   "execution_count": 14,
   "id": "88ab8fa4-78f1-44fb-9b2a-a6c9976cbcd7",
   "metadata": {},
   "outputs": [],
   "source": [
    "dt[\"Baggage handling\"].replace({\"1\":int(1),\"2\":int(2),\"3\":int(3), \"4\":int(4), \"5\":int(5), \"-\":None}, inplace=True)\n",
    "dt=dt.dropna()"
   ]
  },
  {
   "cell_type": "code",
   "execution_count": 15,
   "id": "1789a721-4f99-4425-8de3-177386cec3f2",
   "metadata": {},
   "outputs": [
    {
     "name": "stdout",
     "output_type": "stream",
     "text": [
      "0\n"
     ]
    }
   ],
   "source": [
    "print(features_df[\"Baggage handling\"].isna().sum())"
   ]
  },
  {
   "cell_type": "code",
   "execution_count": 16,
   "id": "23b6c179-ceed-4b55-a0cc-d6e40e211854",
   "metadata": {},
   "outputs": [
    {
     "data": {
      "text/plain": [
       "Index(['Loyal Customer', 'Age', 'Flight Distance', 'Inflight wifi service',\n",
       "       'Departure/Arrival time convenient', 'Ease of Online booking',\n",
       "       'Gate location', 'Food and drink', 'Online boarding', 'Seat comfort',\n",
       "       'Inflight entertainment', 'On-board service', 'Leg room service',\n",
       "       'Baggage handling', 'Checkin service', 'Inflight service',\n",
       "       'Cleanliness', 'Departure Delay in Minutes', 'Arrival Delay in Minutes',\n",
       "       'Gender_Female', 'Gender_Male', 'Type of Travel_Business travel',\n",
       "       'Type of Travel_Personal Travel', 'Class_Business', 'Class_Eco',\n",
       "       'Class_Eco Plus'],\n",
       "      dtype='object')"
      ]
     },
     "execution_count": 16,
     "metadata": {},
     "output_type": "execute_result"
    }
   ],
   "source": [
    "features_df.columns"
   ]
  },
  {
   "cell_type": "code",
   "execution_count": 17,
   "id": "b40e9b9f-c6fc-4d82-8267-23d709098245",
   "metadata": {},
   "outputs": [
    {
     "data": {
      "text/plain": [
       "0         0\n",
       "1         0\n",
       "2         1\n",
       "3         0\n",
       "4         1\n",
       "         ..\n",
       "103899    0\n",
       "103900    0\n",
       "103901    1\n",
       "103903    0\n",
       "103904    0\n",
       "Name: satisfaction, Length: 101395, dtype: int64"
      ]
     },
     "execution_count": 17,
     "metadata": {},
     "output_type": "execute_result"
    }
   ],
   "source": [
    "dt[\"satisfaction\"].dropna()"
   ]
  },
  {
   "cell_type": "code",
   "execution_count": 18,
   "id": "51e9e8fa-4a26-49dd-86e9-3f11befee964",
   "metadata": {},
   "outputs": [],
   "source": [
    "# features_df=features_df.dropna()\n",
    "# dt = dt.dropna()"
   ]
  },
  {
   "cell_type": "code",
   "execution_count": 19,
   "id": "7cd7d0d5-c36b-43a7-8e1d-5bcd3825567b",
   "metadata": {},
   "outputs": [
    {
     "data": {
      "text/html": [
       "<div>\n",
       "<style scoped>\n",
       "    .dataframe tbody tr th:only-of-type {\n",
       "        vertical-align: middle;\n",
       "    }\n",
       "\n",
       "    .dataframe tbody tr th {\n",
       "        vertical-align: top;\n",
       "    }\n",
       "\n",
       "    .dataframe thead th {\n",
       "        text-align: right;\n",
       "    }\n",
       "</style>\n",
       "<table border=\"1\" class=\"dataframe\">\n",
       "  <thead>\n",
       "    <tr style=\"text-align: right;\">\n",
       "      <th></th>\n",
       "      <th>Loyal Customer</th>\n",
       "      <th>Age</th>\n",
       "      <th>Flight Distance</th>\n",
       "      <th>Inflight wifi service</th>\n",
       "      <th>Departure/Arrival time convenient</th>\n",
       "      <th>Ease of Online booking</th>\n",
       "      <th>Gate location</th>\n",
       "      <th>Food and drink</th>\n",
       "      <th>Online boarding</th>\n",
       "      <th>Seat comfort</th>\n",
       "      <th>...</th>\n",
       "      <th>Cleanliness</th>\n",
       "      <th>Departure Delay in Minutes</th>\n",
       "      <th>Arrival Delay in Minutes</th>\n",
       "      <th>Gender_Female</th>\n",
       "      <th>Gender_Male</th>\n",
       "      <th>Type of Travel_Business travel</th>\n",
       "      <th>Type of Travel_Personal Travel</th>\n",
       "      <th>Class_Business</th>\n",
       "      <th>Class_Eco</th>\n",
       "      <th>Class_Eco Plus</th>\n",
       "    </tr>\n",
       "  </thead>\n",
       "  <tbody>\n",
       "    <tr>\n",
       "      <th>count</th>\n",
       "      <td>101395.000000</td>\n",
       "      <td>101395.000000</td>\n",
       "      <td>101395.000000</td>\n",
       "      <td>101395.000000</td>\n",
       "      <td>101395.000000</td>\n",
       "      <td>101395.000000</td>\n",
       "      <td>101395.000000</td>\n",
       "      <td>101395.00000</td>\n",
       "      <td>101395.000000</td>\n",
       "      <td>101395.000000</td>\n",
       "      <td>...</td>\n",
       "      <td>101395.000000</td>\n",
       "      <td>101395.000000</td>\n",
       "      <td>1.013950e+05</td>\n",
       "      <td>101395.000000</td>\n",
       "      <td>101395.000000</td>\n",
       "      <td>101395.000000</td>\n",
       "      <td>101395.000000</td>\n",
       "      <td>101395.000000</td>\n",
       "      <td>101395.000000</td>\n",
       "      <td>101395.000000</td>\n",
       "    </tr>\n",
       "    <tr>\n",
       "      <th>mean</th>\n",
       "      <td>0.817170</td>\n",
       "      <td>39.379516</td>\n",
       "      <td>1189.044154</td>\n",
       "      <td>2.729425</td>\n",
       "      <td>3.059372</td>\n",
       "      <td>2.775807</td>\n",
       "      <td>2.976478</td>\n",
       "      <td>3.20216</td>\n",
       "      <td>3.248908</td>\n",
       "      <td>3.439884</td>\n",
       "      <td>...</td>\n",
       "      <td>3.286296</td>\n",
       "      <td>14.825790</td>\n",
       "      <td>1.335408e+02</td>\n",
       "      <td>0.508072</td>\n",
       "      <td>0.491928</td>\n",
       "      <td>0.689561</td>\n",
       "      <td>0.310439</td>\n",
       "      <td>0.477509</td>\n",
       "      <td>0.450239</td>\n",
       "      <td>0.072252</td>\n",
       "    </tr>\n",
       "    <tr>\n",
       "      <th>std</th>\n",
       "      <td>0.386529</td>\n",
       "      <td>15.414780</td>\n",
       "      <td>997.303491</td>\n",
       "      <td>1.327565</td>\n",
       "      <td>1.525557</td>\n",
       "      <td>4.640367</td>\n",
       "      <td>1.277250</td>\n",
       "      <td>1.32920</td>\n",
       "      <td>1.349604</td>\n",
       "      <td>1.318398</td>\n",
       "      <td>...</td>\n",
       "      <td>1.312001</td>\n",
       "      <td>44.633484</td>\n",
       "      <td>3.768536e+04</td>\n",
       "      <td>0.499937</td>\n",
       "      <td>0.499937</td>\n",
       "      <td>0.462676</td>\n",
       "      <td>0.462676</td>\n",
       "      <td>0.499496</td>\n",
       "      <td>0.497520</td>\n",
       "      <td>0.258906</td>\n",
       "    </tr>\n",
       "    <tr>\n",
       "      <th>min</th>\n",
       "      <td>0.000000</td>\n",
       "      <td>-9.000000</td>\n",
       "      <td>31.000000</td>\n",
       "      <td>-1.000000</td>\n",
       "      <td>-1.000000</td>\n",
       "      <td>0.000000</td>\n",
       "      <td>0.000000</td>\n",
       "      <td>0.00000</td>\n",
       "      <td>0.000000</td>\n",
       "      <td>0.000000</td>\n",
       "      <td>...</td>\n",
       "      <td>0.000000</td>\n",
       "      <td>0.000000</td>\n",
       "      <td>0.000000e+00</td>\n",
       "      <td>0.000000</td>\n",
       "      <td>0.000000</td>\n",
       "      <td>0.000000</td>\n",
       "      <td>0.000000</td>\n",
       "      <td>0.000000</td>\n",
       "      <td>0.000000</td>\n",
       "      <td>0.000000</td>\n",
       "    </tr>\n",
       "    <tr>\n",
       "      <th>25%</th>\n",
       "      <td>1.000000</td>\n",
       "      <td>27.000000</td>\n",
       "      <td>413.000000</td>\n",
       "      <td>2.000000</td>\n",
       "      <td>2.000000</td>\n",
       "      <td>2.000000</td>\n",
       "      <td>2.000000</td>\n",
       "      <td>2.00000</td>\n",
       "      <td>2.000000</td>\n",
       "      <td>2.000000</td>\n",
       "      <td>...</td>\n",
       "      <td>2.000000</td>\n",
       "      <td>0.000000</td>\n",
       "      <td>0.000000e+00</td>\n",
       "      <td>0.000000</td>\n",
       "      <td>0.000000</td>\n",
       "      <td>0.000000</td>\n",
       "      <td>0.000000</td>\n",
       "      <td>0.000000</td>\n",
       "      <td>0.000000</td>\n",
       "      <td>0.000000</td>\n",
       "    </tr>\n",
       "    <tr>\n",
       "      <th>50%</th>\n",
       "      <td>1.000000</td>\n",
       "      <td>40.000000</td>\n",
       "      <td>842.000000</td>\n",
       "      <td>3.000000</td>\n",
       "      <td>3.000000</td>\n",
       "      <td>3.000000</td>\n",
       "      <td>3.000000</td>\n",
       "      <td>3.00000</td>\n",
       "      <td>3.000000</td>\n",
       "      <td>4.000000</td>\n",
       "      <td>...</td>\n",
       "      <td>3.000000</td>\n",
       "      <td>0.000000</td>\n",
       "      <td>0.000000e+00</td>\n",
       "      <td>1.000000</td>\n",
       "      <td>0.000000</td>\n",
       "      <td>1.000000</td>\n",
       "      <td>0.000000</td>\n",
       "      <td>0.000000</td>\n",
       "      <td>0.000000</td>\n",
       "      <td>0.000000</td>\n",
       "    </tr>\n",
       "    <tr>\n",
       "      <th>75%</th>\n",
       "      <td>1.000000</td>\n",
       "      <td>51.000000</td>\n",
       "      <td>1744.000000</td>\n",
       "      <td>4.000000</td>\n",
       "      <td>4.000000</td>\n",
       "      <td>4.000000</td>\n",
       "      <td>4.000000</td>\n",
       "      <td>4.00000</td>\n",
       "      <td>4.000000</td>\n",
       "      <td>5.000000</td>\n",
       "      <td>...</td>\n",
       "      <td>4.000000</td>\n",
       "      <td>12.000000</td>\n",
       "      <td>1.300000e+01</td>\n",
       "      <td>1.000000</td>\n",
       "      <td>1.000000</td>\n",
       "      <td>1.000000</td>\n",
       "      <td>1.000000</td>\n",
       "      <td>1.000000</td>\n",
       "      <td>1.000000</td>\n",
       "      <td>0.000000</td>\n",
       "    </tr>\n",
       "    <tr>\n",
       "      <th>max</th>\n",
       "      <td>1.000000</td>\n",
       "      <td>999.000000</td>\n",
       "      <td>4983.000000</td>\n",
       "      <td>5.000000</td>\n",
       "      <td>5.000000</td>\n",
       "      <td>999.000000</td>\n",
       "      <td>5.000000</td>\n",
       "      <td>5.00000</td>\n",
       "      <td>5.000000</td>\n",
       "      <td>5.000000</td>\n",
       "      <td>...</td>\n",
       "      <td>5.000000</td>\n",
       "      <td>7400.000000</td>\n",
       "      <td>1.200000e+07</td>\n",
       "      <td>1.000000</td>\n",
       "      <td>1.000000</td>\n",
       "      <td>1.000000</td>\n",
       "      <td>1.000000</td>\n",
       "      <td>1.000000</td>\n",
       "      <td>1.000000</td>\n",
       "      <td>1.000000</td>\n",
       "    </tr>\n",
       "  </tbody>\n",
       "</table>\n",
       "<p>8 rows × 26 columns</p>\n",
       "</div>"
      ],
      "text/plain": [
       "       Loyal Customer            Age  Flight Distance  Inflight wifi service  \\\n",
       "count   101395.000000  101395.000000    101395.000000          101395.000000   \n",
       "mean         0.817170      39.379516      1189.044154               2.729425   \n",
       "std          0.386529      15.414780       997.303491               1.327565   \n",
       "min          0.000000      -9.000000        31.000000              -1.000000   \n",
       "25%          1.000000      27.000000       413.000000               2.000000   \n",
       "50%          1.000000      40.000000       842.000000               3.000000   \n",
       "75%          1.000000      51.000000      1744.000000               4.000000   \n",
       "max          1.000000     999.000000      4983.000000               5.000000   \n",
       "\n",
       "       Departure/Arrival time convenient  Ease of Online booking  \\\n",
       "count                      101395.000000           101395.000000   \n",
       "mean                            3.059372                2.775807   \n",
       "std                             1.525557                4.640367   \n",
       "min                            -1.000000                0.000000   \n",
       "25%                             2.000000                2.000000   \n",
       "50%                             3.000000                3.000000   \n",
       "75%                             4.000000                4.000000   \n",
       "max                             5.000000              999.000000   \n",
       "\n",
       "       Gate location  Food and drink  Online boarding   Seat comfort  ...  \\\n",
       "count  101395.000000    101395.00000    101395.000000  101395.000000  ...   \n",
       "mean        2.976478         3.20216         3.248908       3.439884  ...   \n",
       "std         1.277250         1.32920         1.349604       1.318398  ...   \n",
       "min         0.000000         0.00000         0.000000       0.000000  ...   \n",
       "25%         2.000000         2.00000         2.000000       2.000000  ...   \n",
       "50%         3.000000         3.00000         3.000000       4.000000  ...   \n",
       "75%         4.000000         4.00000         4.000000       5.000000  ...   \n",
       "max         5.000000         5.00000         5.000000       5.000000  ...   \n",
       "\n",
       "         Cleanliness  Departure Delay in Minutes  Arrival Delay in Minutes  \\\n",
       "count  101395.000000               101395.000000              1.013950e+05   \n",
       "mean        3.286296                   14.825790              1.335408e+02   \n",
       "std         1.312001                   44.633484              3.768536e+04   \n",
       "min         0.000000                    0.000000              0.000000e+00   \n",
       "25%         2.000000                    0.000000              0.000000e+00   \n",
       "50%         3.000000                    0.000000              0.000000e+00   \n",
       "75%         4.000000                   12.000000              1.300000e+01   \n",
       "max         5.000000                 7400.000000              1.200000e+07   \n",
       "\n",
       "       Gender_Female    Gender_Male  Type of Travel_Business travel  \\\n",
       "count  101395.000000  101395.000000                   101395.000000   \n",
       "mean        0.508072       0.491928                        0.689561   \n",
       "std         0.499937       0.499937                        0.462676   \n",
       "min         0.000000       0.000000                        0.000000   \n",
       "25%         0.000000       0.000000                        0.000000   \n",
       "50%         1.000000       0.000000                        1.000000   \n",
       "75%         1.000000       1.000000                        1.000000   \n",
       "max         1.000000       1.000000                        1.000000   \n",
       "\n",
       "       Type of Travel_Personal Travel  Class_Business      Class_Eco  \\\n",
       "count                   101395.000000   101395.000000  101395.000000   \n",
       "mean                         0.310439        0.477509       0.450239   \n",
       "std                          0.462676        0.499496       0.497520   \n",
       "min                          0.000000        0.000000       0.000000   \n",
       "25%                          0.000000        0.000000       0.000000   \n",
       "50%                          0.000000        0.000000       0.000000   \n",
       "75%                          1.000000        1.000000       1.000000   \n",
       "max                          1.000000        1.000000       1.000000   \n",
       "\n",
       "       Class_Eco Plus  \n",
       "count   101395.000000  \n",
       "mean         0.072252  \n",
       "std          0.258906  \n",
       "min          0.000000  \n",
       "25%          0.000000  \n",
       "50%          0.000000  \n",
       "75%          0.000000  \n",
       "max          1.000000  \n",
       "\n",
       "[8 rows x 26 columns]"
      ]
     },
     "execution_count": 19,
     "metadata": {},
     "output_type": "execute_result"
    }
   ],
   "source": [
    "features_df.shape\n",
    "features_df.describe()"
   ]
  },
  {
   "cell_type": "code",
   "execution_count": 20,
   "id": "409fce33-d6f5-4ad2-b35c-2454e7f834d3",
   "metadata": {},
   "outputs": [],
   "source": [
    "X = features_df.to_numpy()\n",
    "y = dt[\"satisfaction\"].to_numpy()"
   ]
  },
  {
   "cell_type": "code",
   "execution_count": 21,
   "id": "a6db9b68-9549-4f64-a93d-344df1157cab",
   "metadata": {},
   "outputs": [],
   "source": [
    "from sklearn.model_selection import train_test_split\n",
    "\n",
    "X_train, X_test, y_train, y_test = train_test_split(X,y,test_size=0.3,random_state=7) \n"
   ]
  },
  {
   "cell_type": "code",
   "execution_count": 22,
   "id": "d5e552bb-41f2-4088-b6bf-f5e144aafb48",
   "metadata": {},
   "outputs": [
    {
     "data": {
      "text/plain": [
       "GradientBoostingRegressor(random_state=7)"
      ]
     },
     "execution_count": 22,
     "metadata": {},
     "output_type": "execute_result"
    }
   ],
   "source": [
    "from sklearn import ensemble\n",
    "\n",
    "\n",
    "model = ensemble.GradientBoostingRegressor(\n",
    "        random_state = 7\n",
    ")\n",
    "model.fit(X_train,y_train)\n"
   ]
  },
  {
   "cell_type": "code",
   "execution_count": 23,
   "id": "e2d8c9a6-1d9a-4aef-94db-78c94c6c5ca3",
   "metadata": {},
   "outputs": [
    {
     "name": "stdout",
     "output_type": "stream",
     "text": [
      "Training Set Mean Absolute Error :  0.13109611990567693\n",
      "Test Set Mean Absolute Error :  0.13313426377715193\n"
     ]
    }
   ],
   "source": [
    "from sklearn.metrics import mean_absolute_error \n",
    "\n",
    "\n",
    "mae = mean_absolute_error(y_train, model.predict(X_train))\n",
    "print(\"Training Set Mean Absolute Error : \",mae)\n",
    "\n",
    "mae = mean_absolute_error(y_test, model.predict(X_test))\n",
    "print(\"Test Set Mean Absolute Error : \",mae)\n"
   ]
  },
  {
   "cell_type": "code",
   "execution_count": 24,
   "id": "5cff321f-45c2-4588-99e0-c351725b9da7",
   "metadata": {},
   "outputs": [
    {
     "name": "stdout",
     "output_type": "stream",
     "text": [
      "Class_Eco Plus - 0.00%\n",
      "Gender_Male - 0.00%\n",
      "Gender_Female - 0.00%\n",
      "Departure Delay in Minutes - 0.00%\n",
      "Flight Distance - 0.00%\n",
      "Food and drink - 0.00%\n",
      "Class_Eco - 0.00%\n",
      "Gate location - 0.07%\n",
      "Departure/Arrival time convenient - 0.15%\n",
      "Ease of Online booking - 0.16%\n",
      "Arrival Delay in Minutes - 0.22%\n",
      "Age - 0.35%\n",
      "Seat comfort - 0.48%\n",
      "Inflight service - 0.49%\n",
      "Baggage handling - 0.51%\n",
      "Cleanliness - 0.56%\n",
      "On-board service - 0.69%\n",
      "Checkin service - 1.73%\n",
      "Leg room service - 2.35%\n",
      "Loyal Customer - 3.21%\n",
      "Inflight entertainment - 4.73%\n",
      "Type of Travel_Personal Travel - 6.57%\n",
      "Type of Travel_Business travel - 8.68%\n",
      "Class_Business - 10.94%\n",
      "Inflight wifi service - 23.70%\n",
      "Online boarding - 34.41%\n"
     ]
    }
   ],
   "source": [
    "import numpy as np\n",
    "feature_labels = np.array(columns)\n",
    "\n",
    "\n",
    "importance = model.feature_importances_\n",
    "\n",
    "# Sort the feature labels based on the feature importance rankings from the model\n",
    "feature_indexes_by_importance = importance.argsort()\n",
    "\n",
    "# Print each feature label, from most important to least important (reverse order)\n",
    "for index in feature_indexes_by_importance:\n",
    "    print(\"{} - {:.2f}%\".format(feature_labels[index], (importance[index] * 100.0)))"
   ]
  },
  {
   "cell_type": "code",
   "execution_count": 25,
   "id": "ef2b08d9-dedf-493c-8f35-f1963c0ca0fd",
   "metadata": {},
   "outputs": [
    {
     "data": {
      "text/plain": [
       "<AxesSubplot:ylabel='Frequency'>"
      ]
     },
     "execution_count": 25,
     "metadata": {},
     "output_type": "execute_result"
    },
    {
     "data": {
      "image/png": "[encoded data removed]",
      "text/plain": [
       "<Figure size 432x288 with 1 Axes>"
      ]
     },
     "metadata": {
      "needs_background": "light"
     },
     "output_type": "display_data"
    }
   ],
   "source": [
    "dt[\"Flight Distance\"].plot(kind=\"hist\")"
   ]
  },
  {
   "cell_type": "code",
   "execution_count": 26,
   "id": "4a0a19a4-addb-404b-bb8d-0275d6ce21d8",
   "metadata": {},
   "outputs": [
    {
     "name": "stdout",
     "output_type": "stream",
     "text": [
      "0.11217477872188934\n"
     ]
    }
   ],
   "source": [
    "from sklearn.linear_model import LinearRegression\n",
    "from sklearn.metrics import mean_squared_error\n",
    "\n",
    "\n",
    "lm=LinearRegression()\n",
    "lm.fit(X_train,y_train)\n",
    "\n",
    "mse = mean_squared_error(y_test, lm.predict(X_test))\n",
    "print(mse)"
   ]
  },
  {
   "cell_type": "code",
   "execution_count": 32,
   "id": "d426d181-52f5-44a3-b349-6f37043c153c",
   "metadata": {},
   "outputs": [
    {
     "ename": "AttributeError",
     "evalue": "'LinearRegression' object has no attribute 'feature_importances_'",
     "output_type": "error",
     "traceback": [
      "\u001b[1;31m---------------------------------------------------------------------------\u001b[0m",
      "\u001b[1;31mAttributeError\u001b[0m                            Traceback (most recent call last)",
      "Input \u001b[1;32mIn [32]\u001b[0m, in \u001b[0;36m<cell line: 4>\u001b[1;34m()\u001b[0m\n\u001b[0;32m      1\u001b[0m feature_labels \u001b[38;5;241m=\u001b[39m np\u001b[38;5;241m.\u001b[39marray(columns)\n\u001b[1;32m----> 4\u001b[0m importance \u001b[38;5;241m=\u001b[39m \u001b[43mlm\u001b[49m\u001b[38;5;241;43m.\u001b[39;49m\u001b[43mfeature_importances_\u001b[49m\n\u001b[0;32m      6\u001b[0m \u001b[38;5;66;03m# Sort the feature labels based on the feature importance rankings from the model\u001b[39;00m\n\u001b[0;32m      7\u001b[0m feature_indexes_by_importance \u001b[38;5;241m=\u001b[39m importance\u001b[38;5;241m.\u001b[39margsort()\n",
      "\u001b[1;31mAttributeError\u001b[0m: 'LinearRegression' object has no attribute 'feature_importances_'"
     ]
    }
   ],
   "source": []
  },
  {
   "cell_type": "code",
   "execution_count": 34,
   "id": "212aacd7-d184-423e-9f76-2e4f5e61f5a0",
   "metadata": {},
   "outputs": [
    {
     "data": {
      "image/png": "[encoded data removed]",
      "text/plain": [
       "<Figure size 432x432 with 1 Axes>"
      ]
     },
     "metadata": {
      "needs_background": "light"
     },
     "output_type": "display_data"
    }
   ],
   "source": [
    "import matplotlib.pyplot as plt\n",
    "from mpl_toolkits.mplot3d import Axes3D\n",
    "import numpy as np\n",
    "\n",
    "x = np.random.rand(20)\n",
    "y = np.random.rand(20)\n",
    "z = x*y\n",
    "\n",
    "fig = plt.figure(figsize=(6, 6))\n",
    "ax = fig.add_subplot(111, projection='3d')\n",
    "ax.scatter(x, y, z, linewidths=1, alpha=.7, edgecolor='k', s = 200, c=z)\n",
    "plt.show()"
   ]
  },
  {
   "cell_type": "code",
   "execution_count": 35,
   "id": "3c44a76e-3a6a-4374-9ddc-9a6ed830c6a6",
   "metadata": {},
   "outputs": [
    {
     "data": {
      "image/png": "[encoded data removed]",
      "text/plain": [
       "<Figure size 432x432 with 1 Axes>"
      ]
     },
     "metadata": {
      "needs_background": "light"
     },
     "output_type": "display_data"
    }
   ],
   "source": [
    "import matplotlib.pyplot as plt\n",
    "from mpl_toolkits.mplot3d import Axes3D\n",
    "import numpy as np\n",
    "\n",
    "x = features_df[\"Flight Distance\"].to_numpy()\n",
    "y = features_df[\"Leg room service\"].to_numpy()\n",
    "z = dt[\"satisfaction\"].to_numpy()\n",
    "\n",
    "fig = plt.figure(figsize=(6, 6))\n",
    "ax = fig.add_subplot(111, projection='3d')\n",
    "ax.scatter(x, y, z, linewidths=1, alpha=.7, edgecolor='k', s = 200, c=z)\n",
    "plt.show()"
   ]
  },
  {
   "cell_type": "code",
   "execution_count": 38,
   "id": "fed6fd2b-4241-4c10-836f-65da39fd32be",
   "metadata": {},
   "outputs": [],
   "source": [
    "unhappy=dt[dt[\"satisfaction\"]==0]"
   ]
  },
  {
   "cell_type": "code",
   "execution_count": 39,
   "id": "7e390cea-abe5-4fd4-9a3e-107aaa4d5ace",
   "metadata": {},
   "outputs": [
    {
     "data": {
      "text/html": [
       "<div>\n",
       "<style scoped>\n",
       "    .dataframe tbody tr th:only-of-type {\n",
       "        vertical-align: middle;\n",
       "    }\n",
       "\n",
       "    .dataframe tbody tr th {\n",
       "        vertical-align: top;\n",
       "    }\n",
       "\n",
       "    .dataframe thead th {\n",
       "        text-align: right;\n",
       "    }\n",
       "</style>\n",
       "<table border=\"1\" class=\"dataframe\">\n",
       "  <thead>\n",
       "    <tr style=\"text-align: right;\">\n",
       "      <th></th>\n",
       "      <th>id</th>\n",
       "      <th>Gender</th>\n",
       "      <th>Loyal Customer</th>\n",
       "      <th>Age</th>\n",
       "      <th>Type of Travel</th>\n",
       "      <th>Class</th>\n",
       "      <th>Flight Distance</th>\n",
       "      <th>Inflight wifi service</th>\n",
       "      <th>Departure/Arrival time convenient</th>\n",
       "      <th>Ease of Online booking</th>\n",
       "      <th>...</th>\n",
       "      <th>Inflight entertainment</th>\n",
       "      <th>On-board service</th>\n",
       "      <th>Leg room service</th>\n",
       "      <th>Baggage handling</th>\n",
       "      <th>Checkin service</th>\n",
       "      <th>Inflight service</th>\n",
       "      <th>Cleanliness</th>\n",
       "      <th>Departure Delay in Minutes</th>\n",
       "      <th>Arrival Delay in Minutes</th>\n",
       "      <th>satisfaction</th>\n",
       "    </tr>\n",
       "  </thead>\n",
       "  <tbody>\n",
       "    <tr>\n",
       "      <th>0</th>\n",
       "      <td>70172</td>\n",
       "      <td>Male</td>\n",
       "      <td>1</td>\n",
       "      <td>13.0</td>\n",
       "      <td>Personal Travel</td>\n",
       "      <td>Eco Plus</td>\n",
       "      <td>460</td>\n",
       "      <td>3</td>\n",
       "      <td>4.0</td>\n",
       "      <td>3.0</td>\n",
       "      <td>...</td>\n",
       "      <td>5</td>\n",
       "      <td>4</td>\n",
       "      <td>3</td>\n",
       "      <td>4.0</td>\n",
       "      <td>4</td>\n",
       "      <td>5</td>\n",
       "      <td>5</td>\n",
       "      <td>25.0</td>\n",
       "      <td>18.0</td>\n",
       "      <td>0</td>\n",
       "    </tr>\n",
       "    <tr>\n",
       "      <th>1</th>\n",
       "      <td>5047</td>\n",
       "      <td>Male</td>\n",
       "      <td>0</td>\n",
       "      <td>25.0</td>\n",
       "      <td>Business travel</td>\n",
       "      <td>Business</td>\n",
       "      <td>235</td>\n",
       "      <td>3</td>\n",
       "      <td>2.0</td>\n",
       "      <td>3.0</td>\n",
       "      <td>...</td>\n",
       "      <td>1</td>\n",
       "      <td>1</td>\n",
       "      <td>5</td>\n",
       "      <td>3.0</td>\n",
       "      <td>1</td>\n",
       "      <td>4</td>\n",
       "      <td>1</td>\n",
       "      <td>1.0</td>\n",
       "      <td>6.0</td>\n",
       "      <td>0</td>\n",
       "    </tr>\n",
       "    <tr>\n",
       "      <th>3</th>\n",
       "      <td>24026</td>\n",
       "      <td>Female</td>\n",
       "      <td>1</td>\n",
       "      <td>25.0</td>\n",
       "      <td>Business travel</td>\n",
       "      <td>Business</td>\n",
       "      <td>562</td>\n",
       "      <td>2</td>\n",
       "      <td>5.0</td>\n",
       "      <td>5.0</td>\n",
       "      <td>...</td>\n",
       "      <td>2</td>\n",
       "      <td>2</td>\n",
       "      <td>5</td>\n",
       "      <td>3.0</td>\n",
       "      <td>1</td>\n",
       "      <td>4</td>\n",
       "      <td>2</td>\n",
       "      <td>11.0</td>\n",
       "      <td>9.0</td>\n",
       "      <td>0</td>\n",
       "    </tr>\n",
       "    <tr>\n",
       "      <th>5</th>\n",
       "      <td>111157</td>\n",
       "      <td>Female</td>\n",
       "      <td>1</td>\n",
       "      <td>26.0</td>\n",
       "      <td>Personal Travel</td>\n",
       "      <td>Eco</td>\n",
       "      <td>1180</td>\n",
       "      <td>3</td>\n",
       "      <td>4.0</td>\n",
       "      <td>2.0</td>\n",
       "      <td>...</td>\n",
       "      <td>1</td>\n",
       "      <td>3</td>\n",
       "      <td>4</td>\n",
       "      <td>4.0</td>\n",
       "      <td>4</td>\n",
       "      <td>4</td>\n",
       "      <td>1</td>\n",
       "      <td>0.0</td>\n",
       "      <td>0.0</td>\n",
       "      <td>0</td>\n",
       "    </tr>\n",
       "    <tr>\n",
       "      <th>6</th>\n",
       "      <td>82113</td>\n",
       "      <td>Male</td>\n",
       "      <td>1</td>\n",
       "      <td>47.0</td>\n",
       "      <td>Personal Travel</td>\n",
       "      <td>Eco</td>\n",
       "      <td>1276</td>\n",
       "      <td>2</td>\n",
       "      <td>4.0</td>\n",
       "      <td>2.0</td>\n",
       "      <td>...</td>\n",
       "      <td>2</td>\n",
       "      <td>3</td>\n",
       "      <td>3</td>\n",
       "      <td>4.0</td>\n",
       "      <td>3</td>\n",
       "      <td>5</td>\n",
       "      <td>2</td>\n",
       "      <td>9.0</td>\n",
       "      <td>23.0</td>\n",
       "      <td>0</td>\n",
       "    </tr>\n",
       "    <tr>\n",
       "      <th>...</th>\n",
       "      <td>...</td>\n",
       "      <td>...</td>\n",
       "      <td>...</td>\n",
       "      <td>...</td>\n",
       "      <td>...</td>\n",
       "      <td>...</td>\n",
       "      <td>...</td>\n",
       "      <td>...</td>\n",
       "      <td>...</td>\n",
       "      <td>...</td>\n",
       "      <td>...</td>\n",
       "      <td>...</td>\n",
       "      <td>...</td>\n",
       "      <td>...</td>\n",
       "      <td>...</td>\n",
       "      <td>...</td>\n",
       "      <td>...</td>\n",
       "      <td>...</td>\n",
       "      <td>...</td>\n",
       "      <td>...</td>\n",
       "      <td>...</td>\n",
       "    </tr>\n",
       "    <tr>\n",
       "      <th>103897</th>\n",
       "      <td>71445</td>\n",
       "      <td>Male</td>\n",
       "      <td>1</td>\n",
       "      <td>57.0</td>\n",
       "      <td>Business travel</td>\n",
       "      <td>Eco</td>\n",
       "      <td>867</td>\n",
       "      <td>4</td>\n",
       "      <td>5.0</td>\n",
       "      <td>5.0</td>\n",
       "      <td>...</td>\n",
       "      <td>4</td>\n",
       "      <td>3</td>\n",
       "      <td>4</td>\n",
       "      <td>3.0</td>\n",
       "      <td>1</td>\n",
       "      <td>3</td>\n",
       "      <td>4</td>\n",
       "      <td>0.0</td>\n",
       "      <td>0.0</td>\n",
       "      <td>0</td>\n",
       "    </tr>\n",
       "    <tr>\n",
       "      <th>103899</th>\n",
       "      <td>60666</td>\n",
       "      <td>Male</td>\n",
       "      <td>1</td>\n",
       "      <td>50.0</td>\n",
       "      <td>Personal Travel</td>\n",
       "      <td>Eco</td>\n",
       "      <td>1620</td>\n",
       "      <td>3</td>\n",
       "      <td>1.0</td>\n",
       "      <td>3.0</td>\n",
       "      <td>...</td>\n",
       "      <td>2</td>\n",
       "      <td>4</td>\n",
       "      <td>3</td>\n",
       "      <td>4.0</td>\n",
       "      <td>2</td>\n",
       "      <td>4</td>\n",
       "      <td>2</td>\n",
       "      <td>0.0</td>\n",
       "      <td>0.0</td>\n",
       "      <td>0</td>\n",
       "    </tr>\n",
       "    <tr>\n",
       "      <th>103900</th>\n",
       "      <td>94171</td>\n",
       "      <td>Female</td>\n",
       "      <td>0</td>\n",
       "      <td>23.0</td>\n",
       "      <td>Business travel</td>\n",
       "      <td>Eco</td>\n",
       "      <td>192</td>\n",
       "      <td>2</td>\n",
       "      <td>1.0</td>\n",
       "      <td>2.0</td>\n",
       "      <td>...</td>\n",
       "      <td>2</td>\n",
       "      <td>3</td>\n",
       "      <td>1</td>\n",
       "      <td>4.0</td>\n",
       "      <td>2</td>\n",
       "      <td>3</td>\n",
       "      <td>2</td>\n",
       "      <td>3.0</td>\n",
       "      <td>0.0</td>\n",
       "      <td>0</td>\n",
       "    </tr>\n",
       "    <tr>\n",
       "      <th>103903</th>\n",
       "      <td>54173</td>\n",
       "      <td>Female</td>\n",
       "      <td>0</td>\n",
       "      <td>22.0</td>\n",
       "      <td>Business travel</td>\n",
       "      <td>Eco</td>\n",
       "      <td>1000</td>\n",
       "      <td>1</td>\n",
       "      <td>1.0</td>\n",
       "      <td>1.0</td>\n",
       "      <td>...</td>\n",
       "      <td>1</td>\n",
       "      <td>4</td>\n",
       "      <td>5</td>\n",
       "      <td>1.0</td>\n",
       "      <td>5</td>\n",
       "      <td>4</td>\n",
       "      <td>1</td>\n",
       "      <td>0.0</td>\n",
       "      <td>0.0</td>\n",
       "      <td>0</td>\n",
       "    </tr>\n",
       "    <tr>\n",
       "      <th>103904</th>\n",
       "      <td>62567</td>\n",
       "      <td>Male</td>\n",
       "      <td>1</td>\n",
       "      <td>27.0</td>\n",
       "      <td>Business travel</td>\n",
       "      <td>Business</td>\n",
       "      <td>1723</td>\n",
       "      <td>1</td>\n",
       "      <td>3.0</td>\n",
       "      <td>3.0</td>\n",
       "      <td>...</td>\n",
       "      <td>1</td>\n",
       "      <td>1</td>\n",
       "      <td>1</td>\n",
       "      <td>4.0</td>\n",
       "      <td>4</td>\n",
       "      <td>3</td>\n",
       "      <td>1</td>\n",
       "      <td>0.0</td>\n",
       "      <td>0.0</td>\n",
       "      <td>0</td>\n",
       "    </tr>\n",
       "  </tbody>\n",
       "</table>\n",
       "<p>57479 rows × 24 columns</p>\n",
       "</div>"
      ],
      "text/plain": [
       "            id  Gender  Loyal Customer   Age   Type of Travel     Class  \\\n",
       "0        70172    Male               1  13.0  Personal Travel  Eco Plus   \n",
       "1         5047    Male               0  25.0  Business travel  Business   \n",
       "3        24026  Female               1  25.0  Business travel  Business   \n",
       "5       111157  Female               1  26.0  Personal Travel       Eco   \n",
       "6        82113    Male               1  47.0  Personal Travel       Eco   \n",
       "...        ...     ...             ...   ...              ...       ...   \n",
       "103897   71445    Male               1  57.0  Business travel       Eco   \n",
       "103899   60666    Male               1  50.0  Personal Travel       Eco   \n",
       "103900   94171  Female               0  23.0  Business travel       Eco   \n",
       "103903   54173  Female               0  22.0  Business travel       Eco   \n",
       "103904   62567    Male               1  27.0  Business travel  Business   \n",
       "\n",
       "        Flight Distance  Inflight wifi service  \\\n",
       "0                   460                      3   \n",
       "1                   235                      3   \n",
       "3                   562                      2   \n",
       "5                  1180                      3   \n",
       "6                  1276                      2   \n",
       "...                 ...                    ...   \n",
       "103897              867                      4   \n",
       "103899             1620                      3   \n",
       "103900              192                      2   \n",
       "103903             1000                      1   \n",
       "103904             1723                      1   \n",
       "\n",
       "        Departure/Arrival time convenient  Ease of Online booking  ...  \\\n",
       "0                                     4.0                     3.0  ...   \n",
       "1                                     2.0                     3.0  ...   \n",
       "3                                     5.0                     5.0  ...   \n",
       "5                                     4.0                     2.0  ...   \n",
       "6                                     4.0                     2.0  ...   \n",
       "...                                   ...                     ...  ...   \n",
       "103897                                5.0                     5.0  ...   \n",
       "103899                                1.0                     3.0  ...   \n",
       "103900                                1.0                     2.0  ...   \n",
       "103903                                1.0                     1.0  ...   \n",
       "103904                                3.0                     3.0  ...   \n",
       "\n",
       "        Inflight entertainment  On-board service  Leg room service  \\\n",
       "0                            5                 4                 3   \n",
       "1                            1                 1                 5   \n",
       "3                            2                 2                 5   \n",
       "5                            1                 3                 4   \n",
       "6                            2                 3                 3   \n",
       "...                        ...               ...               ...   \n",
       "103897                       4                 3                 4   \n",
       "103899                       2                 4                 3   \n",
       "103900                       2                 3                 1   \n",
       "103903                       1                 4                 5   \n",
       "103904                       1                 1                 1   \n",
       "\n",
       "        Baggage handling  Checkin service  Inflight service  Cleanliness  \\\n",
       "0                    4.0                4                 5            5   \n",
       "1                    3.0                1                 4            1   \n",
       "3                    3.0                1                 4            2   \n",
       "5                    4.0                4                 4            1   \n",
       "6                    4.0                3                 5            2   \n",
       "...                  ...              ...               ...          ...   \n",
       "103897               3.0                1                 3            4   \n",
       "103899               4.0                2                 4            2   \n",
       "103900               4.0                2                 3            2   \n",
       "103903               1.0                5                 4            1   \n",
       "103904               4.0                4                 3            1   \n",
       "\n",
       "        Departure Delay in Minutes  Arrival Delay in Minutes  satisfaction  \n",
       "0                             25.0                      18.0             0  \n",
       "1                              1.0                       6.0             0  \n",
       "3                             11.0                       9.0             0  \n",
       "5                              0.0                       0.0             0  \n",
       "6                              9.0                      23.0             0  \n",
       "...                            ...                       ...           ...  \n",
       "103897                         0.0                       0.0             0  \n",
       "103899                         0.0                       0.0             0  \n",
       "103900                         3.0                       0.0             0  \n",
       "103903                         0.0                       0.0             0  \n",
       "103904                         0.0                       0.0             0  \n",
       "\n",
       "[57479 rows x 24 columns]"
      ]
     },
     "execution_count": 39,
     "metadata": {},
     "output_type": "execute_result"
    }
   ],
   "source": [
    "unhappy"
   ]
  },
  {
   "cell_type": "code",
   "execution_count": 40,
   "id": "101c26db-f1ba-42dc-91d7-0beab2a406b4",
   "metadata": {},
   "outputs": [],
   "source": [
    "happy=dt[dt[\"satisfaction\"]==1]"
   ]
  },
  {
   "cell_type": "code",
   "execution_count": null,
   "id": "e8a2a99c-1d98-450f-af4a-5c63384883d4",
   "metadata": {},
   "outputs": [],
   "source": []
  }
 ],
 "metadata": {
  "kernelspec": {
   "display_name": "Python 3 (ipykernel)",
   "language": "python",
   "name": "python3"
  },
  "language_info": {
   "codemirror_mode": {
    "name": "ipython",
    "version": 3
   },
   "file_extension": ".py",
   "mimetype": "text/x-python",
   "name": "python",
   "nbconvert_exporter": "python",
   "pygments_lexer": "ipython3",
   "version": "3.9.12"
  }
 },
 "nbformat": 4,
 "nbformat_minor": 5
}
